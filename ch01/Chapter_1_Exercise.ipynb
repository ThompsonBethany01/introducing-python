{
 "cells": [
  {
   "cell_type": "markdown",
   "metadata": {},
   "source": [
    "# Introducing Python: Chapter 1 - A Taste of Py"
   ]
  },
  {
   "cell_type": "markdown",
   "metadata": {},
   "source": [
    "# Example Function\n",
    "#### This program asks you to type a url and a date. Then, it checks the WayBack Machine if the url exists at that date. If the url exists, it will open on your computer."
   ]
  },
  {
   "cell_type": "code",
   "execution_count": 2,
   "metadata": {},
   "outputs": [
    {
     "name": "stdout",
     "output_type": "stream",
     "text": [
      "Let's find an old website.\n",
      "Type a website URL: google.com\n",
      "Type a year, month, and day, like 20150613: 19970205\n",
      "Found this copy:  http://web.archive.org/web/19981111184551/http://google.com:80/\n",
      "It should appear in your browser now.\n"
     ]
    }
   ],
   "source": [
    "#imports all code from the python library webbrowser\n",
    "import webbrowser\n",
    "#imports ll code from the python library json\n",
    "import json\n",
    "#imports only the specific function from the urllib.request python library\n",
    "from urllib.request import urlopen\n",
    "\n",
    "#prints a statement and request for user input to create a url and date variable\n",
    "print(\"Let's find an old website.\")\n",
    "site = input(\"Type a website URL: \")\n",
    "era = input(\"Type a year, month, and day, like 20150613: \")\n",
    "\n",
    "#searches the WayBack Machine for the url at that date\n",
    "url = \"http://archive.org/wayback/available?url=%s&timestamp=%s\" % (site, era)\n",
    "response = urlopen(url)\n",
    "contents = response.read()\n",
    "text = contents.decode(\"utf-8\")\n",
    "data = json.loads(text)\n",
    "\n",
    "#opens the website if found\n",
    "try:\n",
    "    old_site = data[\"archived_snapshots\"][\"closest\"][\"url\"]\n",
    "    print(\"Found this copy: \", old_site)\n",
    "    print(\"It should appear in your browser now.\")\n",
    "    webbrowser.open(old_site)\n",
    "    \n",
    "#prints a statement if the url does not exist at that url or date\n",
    "    except:\n",
    "    print(\"Sorry, no luck finding\", site)"
   ]
  }
 ],
 "metadata": {
  "kernelspec": {
   "display_name": "Python 3",
   "language": "python",
   "name": "python3"
  },
  "language_info": {
   "codemirror_mode": {
    "name": "ipython",
    "version": 3
   },
   "file_extension": ".py",
   "mimetype": "text/x-python",
   "name": "python",
   "nbconvert_exporter": "python",
   "pygments_lexer": "ipython3",
   "version": "3.7.6"
  }
 },
 "nbformat": 4,
 "nbformat_minor": 4
}
